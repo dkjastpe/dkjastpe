{
 "cells": [
  {
   "cell_type": "code",
   "execution_count": 1,
   "metadata": {},
   "outputs": [],
   "source": [
    "#Libaries to Import\n",
    "import os   \n",
    "import pandas as pd\n",
    "import matplotlib.pyplot as plt\n",
    "import numpy as np\n",
    "from statsmodels.tsa.seasonal import seasonal_decompose\n",
    "\n",
    "from pandas.plotting import autocorrelation_plot\n",
    "from statsmodels.tsa.stattools import adfuller\n",
    "from statsmodels.tsa.arima.model import ARIMA\n",
    "from statsmodels.tsa.api import SARIMAX\n",
    "from math import sqrt"
   ]
  },
  {
   "cell_type": "code",
   "execution_count": 4,
   "metadata": {},
   "outputs": [
    {
     "name": "stdout",
     "output_type": "stream",
     "text": [
      "   Year     Month  Gross Revenue Year_Month\n",
      "0  2015   January         3135.5 2015-01-01\n",
      "1  2015  February         2397.9 2015-02-01\n",
      "2  2015     March         2363.1 2015-03-01\n",
      "3  2015     April         1992.0 2015-04-01\n",
      "4  2015       May         2029.8 2015-05-01\n",
      "5  2015      June         2073.4 2015-06-01\n"
     ]
    }
   ],
   "source": [
    "#Data \n",
    "all_files = sorted(os.listdir(\"data\"))\n",
    "pnl_files = [f for f in all_files if f.startswith(\"PnL\")]\n",
    "df = pd.concat((pd.read_csv(os.path.join(\"data\", f), delimiter=\";\", encoding=\"ISO-8859-1\", decimal = \",\", thousands='.') for f in pnl_files))\n",
    "\n",
    "#Renmane columns\n",
    "df.rename (columns= {'Calendar_Year': 'Year'}, inplace=True)\n",
    "df.rename (columns= {'Calendar_Month': 'Month'}, inplace=True)\n",
    "\n",
    "# Create a year_month variable as a period which respects calendar time ordering\n",
    "df['Year_Month'] = pd.to_datetime(df['Year'].astype(str)  + df['Month'], format='%Y%B')\n",
    "\n",
    "print(df.head(6))\n"
   ]
  },
  {
   "cell_type": "code",
   "execution_count": null,
   "metadata": {},
   "outputs": [],
   "source": []
  }
 ],
 "metadata": {
  "kernelspec": {
   "display_name": "Python 3.7.6 ('base')",
   "language": "python",
   "name": "python3"
  },
  "language_info": {
   "codemirror_mode": {
    "name": "ipython",
    "version": 3
   },
   "file_extension": ".py",
   "mimetype": "text/x-python",
   "name": "python",
   "nbconvert_exporter": "python",
   "pygments_lexer": "ipython3",
   "version": "3.7.6"
  },
  "orig_nbformat": 4,
  "vscode": {
   "interpreter": {
    "hash": "deb4792152b8b9767403eeef0a1b0f34b83d442136ccee9184cd7d1131f09aa0"
   }
  }
 },
 "nbformat": 4,
 "nbformat_minor": 2
}
